{
  "nbformat": 4,
  "nbformat_minor": 5,
  "metadata": {
    "kernelspec": {
      "display_name": "Python 3 (ipykernel)",
      "language": "python",
      "name": "python3"
    },
    "language_info": {
      "codemirror_mode": {
        "name": "ipython",
        "version": 3
      },
      "file_extension": ".py",
      "mimetype": "text/x-python",
      "name": "python",
      "nbconvert_exporter": "python",
      "pygments_lexer": "ipython3",
      "version": "3.9.7"
    },
    "colab": {
      "name": "NRC_8888_CervantesFerrinRivas_simple_decision_tree_.ipynb",
      "provenance": [],
      "collapsed_sections": []
    }
  },
  "cells": [
    {
      "cell_type": "markdown",
      "metadata": {
        "id": "db1123c0"
      },
      "source": [
        "# Decision Tree"
      ],
      "id": "db1123c0"
    },
    {
      "cell_type": "code",
      "metadata": {
        "id": "2ffdaca2"
      },
      "source": [
        "# import the necessary modules\n",
        "\n",
        "import pandas\n",
        "from sklearn import tree\n",
        "import pydotplus\n",
        "from sklearn.tree import DecisionTreeClassifier\n",
        "%matplotlib notebook\n",
        "import matplotlib.pyplot as plt\n",
        "import matplotlib.image as pltimg"
      ],
      "id": "2ffdaca2",
      "execution_count": null,
      "outputs": []
    },
    {
      "cell_type": "code",
      "metadata": {
        "id": "b2965121",
        "colab": {
          "base_uri": "https://localhost:8080/"
        },
        "outputId": "56e7dd31-4262-47e4-fa25-d830b3f9a786"
      },
      "source": [
        "# read dataframe\n",
        "\n",
        "df = pandas.read_csv('datos.csv')\n",
        "print(df)"
      ],
      "id": "b2965121",
      "execution_count": null,
      "outputs": [
        {
          "output_type": "stream",
          "name": "stdout",
          "text": [
            "    Youtube   Facebook  Instagram   Tik Tok Influencer\n",
            "0     10000  445564445   16515511   9878411         SI\n",
            "1     15265      54545   54156181     48579         NO\n",
            "2    556484     602121   58941898    183957         NO\n",
            "3     45645     545454   44594789     98454         NO\n",
            "4       554    1216654  774849844   1514848         SI\n",
            "5    454554    4515161   49517511   6517784         SI\n",
            "6     44998   56445156   51941755   4454494         SI\n",
            "7    554454    6545454  541879841   4545444         NO\n",
            "8      5454    5455654     954445   5484985         NO\n",
            "9     84454     545454     544599  45464544         NO\n",
            "10   441998    5456454    5564545    554499         SI\n",
            "11  5414554   54546544   54456454   9565444         SI\n",
            "12  5641654    5554855  148948984  56489541         SI\n"
          ]
        }
      ]
    },
    {
      "cell_type": "code",
      "metadata": {
        "id": "79435856",
        "colab": {
          "base_uri": "https://localhost:8080/"
        },
        "outputId": "3de0c7d1-7430-44c3-9e55-41b717f16db1"
      },
      "source": [
        "# cambiar valores de cadena en numéricos\n",
        "d1 = {'SI': 1 , 'NO': 0}\n",
        "df['Influencer'] = df['Influencer'].map(d1)\n",
        "\n",
        "print(df)\n"
      ],
      "id": "79435856",
      "execution_count": null,
      "outputs": [
        {
          "output_type": "stream",
          "name": "stdout",
          "text": [
            "    Youtube   Facebook  Instagram   Tik Tok  Influencer\n",
            "0     10000  445564445   16515511   9878411           1\n",
            "1     15265      54545   54156181     48579           0\n",
            "2    556484     602121   58941898    183957           0\n",
            "3     45645     545454   44594789     98454           0\n",
            "4       554    1216654  774849844   1514848           1\n",
            "5    454554    4515161   49517511   6517784           1\n",
            "6     44998   56445156   51941755   4454494           1\n",
            "7    554454    6545454  541879841   4545444           0\n",
            "8      5454    5455654     954445   5484985           0\n",
            "9     84454     545454     544599  45464544           0\n",
            "10   441998    5456454    5564545    554499           1\n",
            "11  5414554   54546544   54456454   9565444           1\n",
            "12  5641654    5554855  148948984  56489541           1\n"
          ]
        }
      ]
    },
    {
      "cell_type": "code",
      "metadata": {
        "id": "e9b893bb",
        "colab": {
          "base_uri": "https://localhost:8080/"
        },
        "outputId": "01fe0391-a311-42b9-83a5-0d9562718c99"
      },
      "source": [
        "# elegir características, es decir, columnas de las que intentamos predecir\n",
        "features = ['Youtube', 'Facebook', 'Tik Tok','Instagram']\n",
        "X = df[features]\n",
        "\n",
        "# elegir el objetivo, es decir, la columna con los valores que intentamos predecir\n",
        "y = df['Influencer']\n",
        " \n",
        "print(X, y, sep='\\n\\n')"
      ],
      "id": "e9b893bb",
      "execution_count": null,
      "outputs": [
        {
          "output_type": "stream",
          "name": "stdout",
          "text": [
            "    Youtube   Facebook   Tik Tok  Instagram\n",
            "0     10000  445564445   9878411   16515511\n",
            "1     15265      54545     48579   54156181\n",
            "2    556484     602121    183957   58941898\n",
            "3     45645     545454     98454   44594789\n",
            "4       554    1216654   1514848  774849844\n",
            "5    454554    4515161   6517784   49517511\n",
            "6     44998   56445156   4454494   51941755\n",
            "7    554454    6545454   4545444  541879841\n",
            "8      5454    5455654   5484985     954445\n",
            "9     84454     545454  45464544     544599\n",
            "10   441998    5456454    554499    5564545\n",
            "11  5414554   54546544   9565444   54456454\n",
            "12  5641654    5554855  56489541  148948984\n",
            "\n",
            "0     1\n",
            "1     0\n",
            "2     0\n",
            "3     0\n",
            "4     1\n",
            "5     1\n",
            "6     1\n",
            "7     0\n",
            "8     0\n",
            "9     0\n",
            "10    1\n",
            "11    1\n",
            "12    1\n",
            "Name: Influencer, dtype: int64\n"
          ]
        }
      ]
    },
    {
      "cell_type": "code",
      "metadata": {
        "id": "cb7ec326"
      },
      "source": [
        "# crear un árbol de decisiones\n",
        "\n",
        "dtree = DecisionTreeClassifier()\n",
        "dtree = dtree.fit(X, y)"
      ],
      "id": "cb7ec326",
      "execution_count": null,
      "outputs": []
    },
    {
      "cell_type": "code",
      "metadata": {
        "id": "cce9e8fb",
        "colab": {
          "base_uri": "https://localhost:8080/"
        },
        "outputId": "5b303251-e884-4e20-f879-90fec5a269a4"
      },
      "source": [
        "# guardar el árbol de decisiones como una imagen\n",
        "\n",
        "data = tree.export_graphviz(dtree, out_file=None, feature_names=features)\n",
        "graph = pydotplus.graph_from_dot_data(data)\n",
        "graph.write_png('mydecisiontree.png')"
      ],
      "id": "cce9e8fb",
      "execution_count": null,
      "outputs": [
        {
          "output_type": "execute_result",
          "data": {
            "text/plain": [
              "True"
            ]
          },
          "metadata": {},
          "execution_count": 6
        }
      ]
    },
    {
      "cell_type": "code",
      "metadata": {
        "id": "06446761",
        "colab": {
          "base_uri": "https://localhost:8080/",
          "height": 269
        },
        "outputId": "5a44d817-5c30-48d2-df07-4c727d084ef3"
      },
      "source": [
        "# muestra la imagen\n",
        "\n",
        "img = pltimg.imread('mydecisiontree.png')\n",
        "imgplot = plt.imshow(img)\n",
        "plt.show()"
      ],
      "id": "06446761",
      "execution_count": null,
      "outputs": [
        {
          "output_type": "display_data",
          "data": {
            "image/png": "[encoded data removed]",
            "text/plain": [
              "<Figure size 432x288 with 1 Axes>"
            ]
          },
          "metadata": {
            "needs_background": "light"
          }
        }
      ]
    }
  ]
}